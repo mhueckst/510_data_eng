{
 "cells": [
  {
   "cell_type": "code",
   "execution_count": null,
   "id": "f2754142",
   "metadata": {},
   "outputs": [],
   "source": [
    "import sys\n",
    "!python -m pip install utilities \n"
   ]
  },
  {
   "cell_type": "code",
   "execution_count": null,
   "id": "d092932e",
   "metadata": {},
   "outputs": [],
   "source": [
    "import pandas as pd\n",
    "from bs4 import BeautifulSoup\n",
    "from urllib.request import urlopen\n",
    "import re\n",
    "import sys\n",
    "from utilities import get_date_str\n",
    "\n",
    "def transform_trip_df(filename):\n",
    "    URL = \"http://www.psudataeng.com:8000/getStopEvents\"\n",
    "    html = urlopen(URL)\n",
    "    soup = BeautifulSoup(html, \"lxml\")\n",
    "\n",
    "    h2s = soup.find_all(\"h2\")\n",
    "    tables = soup.find_all(\"table\")\n",
    "\n",
    "    list_h2 = []\n",
    "    for header in h2s:\n",
    "        header_str = str(header).replace(\"<h2>Stop Events for \", \"\").replace(\" for today</h2>\", \"\")\n",
    "        list_h2.append(int(header_str))\n",
    "\n",
    "    labels = [\"vehicle_number\", \"leave_time\", \"train\", \"route_number\", \"direction\", \"service_key\", \"trip_number\", \"stop_time\",\"arrive_time\",\"dwell\",\"location_id\",\"door\",\"lift\",\"ons\",\"offs\",\"estimated_load\",\"maximum_speed\",\"train_mileage\",\"pattern_distance\",\"location_distance\",\"x_coordinate\",\"y_coordinate\",\"data_source\",\"schedule_status\"]\n",
    "    labels_df = pd.DataFrame(labels).T\n",
    "\n",
    "    data = []\n",
    "    for i in range(len(tables)):\n",
    "        table = tables[i]\n",
    "\n",
    "        # First row is the label row. Get second row for the table's data.\n",
    "        # Is no second row, there's no row with data. Just leave\n",
    "        this_table = table.find_all(\"tr\")\n",
    "        if(len(this_table) < 2):\n",
    "            continue\n",
    "        this_table = this_table[1]\n",
    "        cells = this_table.find_all(\"td\")\n",
    "        str_cells = str(cells)\n",
    "        clean = re.compile(\"<.*?>\")\n",
    "        clean2 = re.sub(clean, \"\", str_cells)\n",
    "        clean3 = clean2.replace(\"[\", \"\").replace(\"]\", \"\")\n",
    "        data.append(clean3)\n",
    "\n",
    "    data_df = pd.DataFrame(data)\n",
    "    data_df = data_df[0].str.split(\",\", expand=True)\n",
    "    # print(data_df)\n",
    "\n",
    "    labels = [\"vehicle_number\", \"leave_time\", \"train\", \"route_number\", \"direction\", \"service_key\", \"trip_number\", \"stop_time\",\"arrive_time\",\"dwell\",\"location_id\",\"door\",\"lift\",\"ons\",\"offs\",\"estimated_load\",\"maximum_speed\",\"train_mileage\",\"pattern_distance\",\"location_distance\",\"x_coordinate\",\"y_coordinate\",\"data_source\",\"schedule_status\"]\n",
    "    labels_df = pd.DataFrame(labels).T\n",
    "    columns_to_keep = [\"trip_id\", \"route_number\", \"service_key\", \"direction\"]\n",
    "\n",
    "    new_df = pd.concat([labels_df, data_df])\n",
    "    new_df = new_df.rename(columns=new_df.iloc[0])\n",
    "    new_df = new_df.drop(new_df.index[0])\n",
    "\n",
    "    new_df[\"trip_id\"] = pd.DataFrame(list_h2)\n",
    "    new_df = new_df[columns_to_keep]\n",
    "\n",
    "    return new_df\n",
    "\n",
    "if __name__ == \"__main__\":\n",
    "    if(len(sys.argv) < 2):\n",
    "        filename = f\"/home/dtm-project/consumed_data/trips_{get_date_str()}.csv\"\n",
    "        print(filename)\n",
    "    else:\n",
    "        filename = sys.argv[1]\n",
    "    transform_trip_df(filename).to_csv(filename)"
   ]
  }
 ],
 "metadata": {
  "kernelspec": {
   "display_name": "Python 3 (ipykernel)",
   "language": "python",
   "name": "python3"
  },
  "language_info": {
   "codemirror_mode": {
    "name": "ipython",
    "version": 3
   },
   "file_extension": ".py",
   "mimetype": "text/x-python",
   "name": "python",
   "nbconvert_exporter": "python",
   "pygments_lexer": "ipython3",
   "version": "3.10.9"
  }
 },
 "nbformat": 4,
 "nbformat_minor": 5
}
