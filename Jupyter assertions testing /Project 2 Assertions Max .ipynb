{
 "cells": [
  {
   "cell_type": "markdown",
   "id": "8be3be4a",
   "metadata": {},
   "source": [
    "# Validations:  "
   ]
  },
  {
   "cell_type": "code",
   "execution_count": 26,
   "id": "79246269",
   "metadata": {},
   "outputs": [
    {
     "name": "stdout",
     "output_type": "stream",
     "text": [
      "No NaN/empty values found\n"
     ]
    }
   ],
   "source": [
    "# 1. There are no 0/NaN values (each row has all values)\n",
    "\n",
    "notna = df.notna()\n",
    "if False in notna: \n",
    "    print ('False')\n",
    "else: \n",
    "    print (\"No NaN/empty values found\")"
   ]
  },
  {
   "cell_type": "code",
   "execution_count": 47,
   "id": "8f4509ad",
   "metadata": {},
   "outputs": [],
   "source": [
    "# 2. Date should be one day: once timestamp configed check that date is same day\n"
   ]
  },
  {
   "cell_type": "code",
   "execution_count": null,
   "id": "71695236",
   "metadata": {},
   "outputs": [],
   "source": [
    "# 3. A trip should have a trip number as well as a vehicle number. \n",
    "# The code for #1 should cover this "
   ]
  },
  {
   "cell_type": "code",
   "execution_count": 30,
   "id": "5ecf2315",
   "metadata": {},
   "outputs": [
    {
     "data": {
      "text/plain": [
       "5751"
      ]
     },
     "execution_count": 30,
     "metadata": {},
     "output_type": "execute_result"
    }
   ],
   "source": [
    "# 4. Every same trip number should have the same vehicle number \n",
    "# trips = df.groupby(['EVENT_NO_TRIP']).mean()\n",
    "trips = df['EVENT_NO_TRIP'].unique()\n",
    "trips.size\n"
   ]
  },
  {
   "cell_type": "code",
   "execution_count": 27,
   "id": "85e4679b",
   "metadata": {},
   "outputs": [
    {
     "data": {
      "text/plain": [
       "216463"
      ]
     },
     "execution_count": 27,
     "metadata": {},
     "output_type": "execute_result"
    }
   ],
   "source": [
    "# 5. There are a few millions records daily but not more (>5mil = alarm)\n",
    "df['EVENT_NO_TRIP'].size"
   ]
  },
  {
   "cell_type": "code",
   "execution_count": 29,
   "id": "3070d73e",
   "metadata": {},
   "outputs": [
    {
     "data": {
      "text/plain": [
       "1"
      ]
     },
     "execution_count": 29,
     "metadata": {},
     "output_type": "execute_result"
    }
   ],
   "source": [
    "# 6. The date should always be the same in every row \n",
    "date = df['OPD_DATE'].unique()\n",
    "date.size"
   ]
  },
  {
   "cell_type": "code",
   "execution_count": null,
   "id": "47e5e6d6",
   "metadata": {},
   "outputs": [],
   "source": [
    "# 7. The velocity should conform to a (normal?) distribution - max/min/mean speeds \n",
    "# Can't do without transformation"
   ]
  },
  {
   "cell_type": "markdown",
   "id": "d527d802",
   "metadata": {},
   "source": [
    "# Transformation -> SQL tables"
   ]
  },
  {
   "cell_type": "code",
   "execution_count": null,
   "id": "66466ced",
   "metadata": {},
   "outputs": [],
   "source": [
    "# df['c']=df['b'].apply(lambda x: 0 if x ==0 else math.log(x))"
   ]
  },
  {
   "cell_type": "code",
   "execution_count": 84,
   "id": "ebc95a3e",
   "metadata": {},
   "outputs": [
    {
     "data": {
      "text/html": [
       "<div>\n",
       "<style scoped>\n",
       "    .dataframe tbody tr th:only-of-type {\n",
       "        vertical-align: middle;\n",
       "    }\n",
       "\n",
       "    .dataframe tbody tr th {\n",
       "        vertical-align: top;\n",
       "    }\n",
       "\n",
       "    .dataframe thead th {\n",
       "        text-align: right;\n",
       "    }\n",
       "</style>\n",
       "<table border=\"1\" class=\"dataframe\">\n",
       "  <thead>\n",
       "    <tr style=\"text-align: right;\">\n",
       "      <th></th>\n",
       "      <th>EVENT_NO_TRIP</th>\n",
       "      <th>VEHICLE_ID</th>\n",
       "      <th>METERS</th>\n",
       "      <th>GPS_LONGITUDE</th>\n",
       "      <th>GPS_LATITUDE</th>\n",
       "      <th>TIMESTAMP</th>\n",
       "      <th>SPEED</th>\n",
       "    </tr>\n",
       "  </thead>\n",
       "  <tbody>\n",
       "    <tr>\n",
       "      <th>0</th>\n",
       "      <td>229985012</td>\n",
       "      <td>3058</td>\n",
       "      <td>45415</td>\n",
       "      <td>-122.568135</td>\n",
       "      <td>45.436270</td>\n",
       "      <td>2023-01-01 09:11:42</td>\n",
       "      <td>NaN</td>\n",
       "    </tr>\n",
       "    <tr>\n",
       "      <th>1</th>\n",
       "      <td>229985012</td>\n",
       "      <td>3058</td>\n",
       "      <td>45442</td>\n",
       "      <td>-122.568260</td>\n",
       "      <td>45.436510</td>\n",
       "      <td>2023-01-01 09:11:46</td>\n",
       "      <td>6.750000</td>\n",
       "    </tr>\n",
       "    <tr>\n",
       "      <th>2</th>\n",
       "      <td>229985012</td>\n",
       "      <td>3058</td>\n",
       "      <td>45461</td>\n",
       "      <td>-122.568512</td>\n",
       "      <td>45.436545</td>\n",
       "      <td>2023-01-01 09:11:52</td>\n",
       "      <td>3.166667</td>\n",
       "    </tr>\n",
       "    <tr>\n",
       "      <th>3</th>\n",
       "      <td>229985127</td>\n",
       "      <td>3058</td>\n",
       "      <td>45635</td>\n",
       "      <td>-122.569083</td>\n",
       "      <td>45.435910</td>\n",
       "      <td>2023-01-01 09:33:52</td>\n",
       "      <td>0.131818</td>\n",
       "    </tr>\n",
       "    <tr>\n",
       "      <th>4</th>\n",
       "      <td>229985127</td>\n",
       "      <td>3058</td>\n",
       "      <td>45673</td>\n",
       "      <td>-122.569107</td>\n",
       "      <td>45.436260</td>\n",
       "      <td>2023-01-01 09:33:57</td>\n",
       "      <td>7.600000</td>\n",
       "    </tr>\n",
       "    <tr>\n",
       "      <th>...</th>\n",
       "      <td>...</td>\n",
       "      <td>...</td>\n",
       "      <td>...</td>\n",
       "      <td>...</td>\n",
       "      <td>...</td>\n",
       "      <td>...</td>\n",
       "      <td>...</td>\n",
       "    </tr>\n",
       "    <tr>\n",
       "      <th>216458</th>\n",
       "      <td>231115345</td>\n",
       "      <td>4057</td>\n",
       "      <td>309944</td>\n",
       "      <td>-122.750707</td>\n",
       "      <td>45.589312</td>\n",
       "      <td>2023-01-02 00:23:47</td>\n",
       "      <td>6.800000</td>\n",
       "    </tr>\n",
       "    <tr>\n",
       "      <th>216459</th>\n",
       "      <td>231115345</td>\n",
       "      <td>4057</td>\n",
       "      <td>309971</td>\n",
       "      <td>-122.751035</td>\n",
       "      <td>45.589187</td>\n",
       "      <td>2023-01-02 00:23:52</td>\n",
       "      <td>5.400000</td>\n",
       "    </tr>\n",
       "    <tr>\n",
       "      <th>216460</th>\n",
       "      <td>231115345</td>\n",
       "      <td>4057</td>\n",
       "      <td>309989</td>\n",
       "      <td>-122.751198</td>\n",
       "      <td>45.589072</td>\n",
       "      <td>2023-01-02 00:23:57</td>\n",
       "      <td>3.600000</td>\n",
       "    </tr>\n",
       "    <tr>\n",
       "      <th>216461</th>\n",
       "      <td>231115345</td>\n",
       "      <td>4057</td>\n",
       "      <td>310012</td>\n",
       "      <td>-122.751483</td>\n",
       "      <td>45.589113</td>\n",
       "      <td>2023-01-02 00:24:02</td>\n",
       "      <td>4.600000</td>\n",
       "    </tr>\n",
       "    <tr>\n",
       "      <th>216462</th>\n",
       "      <td>231115345</td>\n",
       "      <td>4057</td>\n",
       "      <td>310044</td>\n",
       "      <td>-122.751847</td>\n",
       "      <td>45.589235</td>\n",
       "      <td>2023-01-02 00:24:07</td>\n",
       "      <td>6.400000</td>\n",
       "    </tr>\n",
       "  </tbody>\n",
       "</table>\n",
       "<p>216463 rows × 7 columns</p>\n",
       "</div>"
      ],
      "text/plain": [
       "        EVENT_NO_TRIP  VEHICLE_ID  METERS  GPS_LONGITUDE  GPS_LATITUDE  \\\n",
       "0           229985012        3058   45415    -122.568135     45.436270   \n",
       "1           229985012        3058   45442    -122.568260     45.436510   \n",
       "2           229985012        3058   45461    -122.568512     45.436545   \n",
       "3           229985127        3058   45635    -122.569083     45.435910   \n",
       "4           229985127        3058   45673    -122.569107     45.436260   \n",
       "...               ...         ...     ...            ...           ...   \n",
       "216458      231115345        4057  309944    -122.750707     45.589312   \n",
       "216459      231115345        4057  309971    -122.751035     45.589187   \n",
       "216460      231115345        4057  309989    -122.751198     45.589072   \n",
       "216461      231115345        4057  310012    -122.751483     45.589113   \n",
       "216462      231115345        4057  310044    -122.751847     45.589235   \n",
       "\n",
       "                 TIMESTAMP     SPEED  \n",
       "0      2023-01-01 09:11:42       NaN  \n",
       "1      2023-01-01 09:11:46  6.750000  \n",
       "2      2023-01-01 09:11:52  3.166667  \n",
       "3      2023-01-01 09:33:52  0.131818  \n",
       "4      2023-01-01 09:33:57  7.600000  \n",
       "...                    ...       ...  \n",
       "216458 2023-01-02 00:23:47  6.800000  \n",
       "216459 2023-01-02 00:23:52  5.400000  \n",
       "216460 2023-01-02 00:23:57  3.600000  \n",
       "216461 2023-01-02 00:24:02  4.600000  \n",
       "216462 2023-01-02 00:24:07  6.400000  \n",
       "\n",
       "[216463 rows x 7 columns]"
      ]
     },
     "execution_count": 84,
     "metadata": {},
     "output_type": "execute_result"
    }
   ],
   "source": [
    "import pandas as pd\n",
    "df = pd.read_json('2023-05-10.json')\n",
    "df = df.drop(columns=['EVENT_NO_STOP', 'GPS_SATELLITES', 'GPS_HDOP'])\n",
    "from datetime import datetime, timedelta\n",
    "\n",
    "def create_timestamp(i):\n",
    "    date = datetime.strptime(i['OPD_DATE'],'%d%b%Y:%H:%M:%S')\n",
    "    time = timedelta(seconds=i['ACT_TIME'])\n",
    "    return date + time \n",
    "    \n",
    "df['TIMESTAMP'] = df.apply(create_timestamp,axis=1)\n",
    "df = df.drop(columns=['OPD_DATE', 'ACT_TIME'])\n",
    "\n",
    "def speed(meters, time):\n",
    "    speed = meters/time\n",
    "    return speed\n",
    "\n",
    "df['dMETERS'] = df['METERS'].diff()\n",
    "df['dTIMESTAMP'] = df['TIMESTAMP'].diff()\n",
    "df['SPEED'] = df.apply(lambda row: speed(row['dMETERS'],row['dTIMESTAMP'].total_seconds()), axis=1)\n",
    "df = df.drop(columns=['dMETERS','dTIMESTAMP'])\n",
    "\n",
    "# Code that sets first breadcrumb value to second (not currently for all trips)\n",
    "# df.sort_values(by='EVENT_NO_TRIP', na_position='first')\n",
    "# df.iloc[0,6] = df.iloc[1,6]\n",
    "df\n"
   ]
  },
  {
   "cell_type": "markdown",
   "id": "26d4c760",
   "metadata": {},
   "source": [
    "# Transforming DF to SQL param tables: \n",
    "| BreadCrumb      | Trip |\n",
    "| ----------- | ----------- |\n",
    "| tstamp      | trip_id       |\n",
    "| latitude   | route_id        |\n",
    "| longitude   | vehicle_id        |\n",
    "| speed   | service_key        |\n",
    "| trip_id   | direction        |\n"
   ]
  },
  {
   "cell_type": "code",
   "execution_count": 89,
   "id": "7a5f3996",
   "metadata": {},
   "outputs": [
    {
     "data": {
      "text/html": [
       "<div>\n",
       "<style scoped>\n",
       "    .dataframe tbody tr th:only-of-type {\n",
       "        vertical-align: middle;\n",
       "    }\n",
       "\n",
       "    .dataframe tbody tr th {\n",
       "        vertical-align: top;\n",
       "    }\n",
       "\n",
       "    .dataframe thead th {\n",
       "        text-align: right;\n",
       "    }\n",
       "</style>\n",
       "<table border=\"1\" class=\"dataframe\">\n",
       "  <thead>\n",
       "    <tr style=\"text-align: right;\">\n",
       "      <th></th>\n",
       "      <th>tstamp</th>\n",
       "      <th>latitude</th>\n",
       "      <th>longitude</th>\n",
       "      <th>speed</th>\n",
       "      <th>trip_id</th>\n",
       "    </tr>\n",
       "  </thead>\n",
       "  <tbody>\n",
       "    <tr>\n",
       "      <th>0</th>\n",
       "      <td>2023-01-01 09:11:42</td>\n",
       "      <td>45.436270</td>\n",
       "      <td>-122.568135</td>\n",
       "      <td>NaN</td>\n",
       "      <td>229985012</td>\n",
       "    </tr>\n",
       "    <tr>\n",
       "      <th>1</th>\n",
       "      <td>2023-01-01 09:11:46</td>\n",
       "      <td>45.436510</td>\n",
       "      <td>-122.568260</td>\n",
       "      <td>6.750000</td>\n",
       "      <td>229985012</td>\n",
       "    </tr>\n",
       "    <tr>\n",
       "      <th>2</th>\n",
       "      <td>2023-01-01 09:11:52</td>\n",
       "      <td>45.436545</td>\n",
       "      <td>-122.568512</td>\n",
       "      <td>3.166667</td>\n",
       "      <td>229985012</td>\n",
       "    </tr>\n",
       "    <tr>\n",
       "      <th>3</th>\n",
       "      <td>2023-01-01 09:33:52</td>\n",
       "      <td>45.435910</td>\n",
       "      <td>-122.569083</td>\n",
       "      <td>0.131818</td>\n",
       "      <td>229985127</td>\n",
       "    </tr>\n",
       "    <tr>\n",
       "      <th>4</th>\n",
       "      <td>2023-01-01 09:33:57</td>\n",
       "      <td>45.436260</td>\n",
       "      <td>-122.569107</td>\n",
       "      <td>7.600000</td>\n",
       "      <td>229985127</td>\n",
       "    </tr>\n",
       "  </tbody>\n",
       "</table>\n",
       "</div>"
      ],
      "text/plain": [
       "               tstamp   latitude   longitude     speed    trip_id\n",
       "0 2023-01-01 09:11:42  45.436270 -122.568135       NaN  229985012\n",
       "1 2023-01-01 09:11:46  45.436510 -122.568260  6.750000  229985012\n",
       "2 2023-01-01 09:11:52  45.436545 -122.568512  3.166667  229985012\n",
       "3 2023-01-01 09:33:52  45.435910 -122.569083  0.131818  229985127\n",
       "4 2023-01-01 09:33:57  45.436260 -122.569107  7.600000  229985127"
      ]
     },
     "execution_count": 89,
     "metadata": {},
     "output_type": "execute_result"
    }
   ],
   "source": [
    "# df.rename({'Courses': 'Course_ Name','Fee': 'CourseFee', 'Duration': 'CourseDuration'}, \n",
    "#           axis = \"columns\", inplace = True) \n",
    "BreadCrumb = df[['TIMESTAMP','GPS_LATITUDE', 'GPS_LONGITUDE', 'SPEED', 'EVENT_NO_TRIP']].copy()\n",
    "BreadCrumb.rename({'TIMESTAMP': 'tstamp', 'GPS_LATITUDE': 'latitude', 'GPS_LONGITUDE':'longitude', 'SPEED':'speed', 'EVENT_NO_TRIP':'trip_id'}, axis='columns', inplace=True)\n",
    "BreadCrumb.head(5)"
   ]
  },
  {
   "cell_type": "code",
   "execution_count": 93,
   "id": "c6022049",
   "metadata": {},
   "outputs": [
    {
     "data": {
      "text/html": [
       "<div>\n",
       "<style scoped>\n",
       "    .dataframe tbody tr th:only-of-type {\n",
       "        vertical-align: middle;\n",
       "    }\n",
       "\n",
       "    .dataframe tbody tr th {\n",
       "        vertical-align: top;\n",
       "    }\n",
       "\n",
       "    .dataframe thead th {\n",
       "        text-align: right;\n",
       "    }\n",
       "</style>\n",
       "<table border=\"1\" class=\"dataframe\">\n",
       "  <thead>\n",
       "    <tr style=\"text-align: right;\">\n",
       "      <th></th>\n",
       "      <th>trip_id</th>\n",
       "      <th>route_id</th>\n",
       "      <th>vehicle_id</th>\n",
       "      <th>service_key</th>\n",
       "      <th>direction</th>\n",
       "    </tr>\n",
       "  </thead>\n",
       "  <tbody>\n",
       "    <tr>\n",
       "      <th>0</th>\n",
       "      <td>229985012</td>\n",
       "      <td>-1</td>\n",
       "      <td>3058</td>\n",
       "      <td>-1</td>\n",
       "      <td>-1</td>\n",
       "    </tr>\n",
       "    <tr>\n",
       "      <th>1</th>\n",
       "      <td>229985012</td>\n",
       "      <td>-1</td>\n",
       "      <td>3058</td>\n",
       "      <td>-1</td>\n",
       "      <td>-1</td>\n",
       "    </tr>\n",
       "    <tr>\n",
       "      <th>2</th>\n",
       "      <td>229985012</td>\n",
       "      <td>-1</td>\n",
       "      <td>3058</td>\n",
       "      <td>-1</td>\n",
       "      <td>-1</td>\n",
       "    </tr>\n",
       "    <tr>\n",
       "      <th>3</th>\n",
       "      <td>229985127</td>\n",
       "      <td>-1</td>\n",
       "      <td>3058</td>\n",
       "      <td>-1</td>\n",
       "      <td>-1</td>\n",
       "    </tr>\n",
       "    <tr>\n",
       "      <th>4</th>\n",
       "      <td>229985127</td>\n",
       "      <td>-1</td>\n",
       "      <td>3058</td>\n",
       "      <td>-1</td>\n",
       "      <td>-1</td>\n",
       "    </tr>\n",
       "  </tbody>\n",
       "</table>\n",
       "</div>"
      ],
      "text/plain": [
       "     trip_id  route_id  vehicle_id  service_key  direction\n",
       "0  229985012        -1        3058           -1         -1\n",
       "1  229985012        -1        3058           -1         -1\n",
       "2  229985012        -1        3058           -1         -1\n",
       "3  229985127        -1        3058           -1         -1\n",
       "4  229985127        -1        3058           -1         -1"
      ]
     },
     "execution_count": 93,
     "metadata": {},
     "output_type": "execute_result"
    }
   ],
   "source": [
    "Trip = df[['EVENT_NO_TRIP', 'VEHICLE_ID']].copy()\n",
    "Trip.rename({'EVENT_NO_TRIP':'trip_id', 'VEHICLE_ID':'vehicle_id'},axis='columns',inplace=True)\n",
    "Trip.insert(loc=1, column='route_id', value=-1)\n",
    "Trip.insert(loc=3, column='service_key', value=-1)\n",
    "Trip.insert(loc=4, column='direction', value=-1)\n",
    "\n",
    "Trip.head(5)"
   ]
  },
  {
   "cell_type": "code",
   "execution_count": null,
   "id": "f729302a",
   "metadata": {},
   "outputs": [],
   "source": []
  }
 ],
 "metadata": {
  "kernelspec": {
   "display_name": "Python 3 (ipykernel)",
   "language": "python",
   "name": "python3"
  },
  "language_info": {
   "codemirror_mode": {
    "name": "ipython",
    "version": 3
   },
   "file_extension": ".py",
   "mimetype": "text/x-python",
   "name": "python",
   "nbconvert_exporter": "python",
   "pygments_lexer": "ipython3",
   "version": "3.10.9"
  }
 },
 "nbformat": 4,
 "nbformat_minor": 5
}
