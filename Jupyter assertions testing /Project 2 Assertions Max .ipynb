{
 "cells": [
  {
   "cell_type": "code",
   "execution_count": 2,
   "id": "22c87808",
   "metadata": {},
   "outputs": [
    {
     "data": {
      "text/html": [
       "<div>\n",
       "<style scoped>\n",
       "    .dataframe tbody tr th:only-of-type {\n",
       "        vertical-align: middle;\n",
       "    }\n",
       "\n",
       "    .dataframe tbody tr th {\n",
       "        vertical-align: top;\n",
       "    }\n",
       "\n",
       "    .dataframe thead th {\n",
       "        text-align: right;\n",
       "    }\n",
       "</style>\n",
       "<table border=\"1\" class=\"dataframe\">\n",
       "  <thead>\n",
       "    <tr style=\"text-align: right;\">\n",
       "      <th></th>\n",
       "      <th>EVENT_NO_TRIP</th>\n",
       "      <th>EVENT_NO_STOP</th>\n",
       "      <th>OPD_DATE</th>\n",
       "      <th>VEHICLE_ID</th>\n",
       "      <th>METERS</th>\n",
       "      <th>ACT_TIME</th>\n",
       "      <th>VELOCITY</th>\n",
       "      <th>DIRECTION</th>\n",
       "      <th>RADIO_QUALITY</th>\n",
       "      <th>GPS_LONGITUDE</th>\n",
       "    </tr>\n",
       "  </thead>\n",
       "  <tbody>\n",
       "    <tr>\n",
       "      <th>0</th>\n",
       "      <td>218523654</td>\n",
       "      <td>218523719</td>\n",
       "      <td>13-Dec-22</td>\n",
       "      <td>3604</td>\n",
       "      <td>138688</td>\n",
       "      <td>42869</td>\n",
       "      <td>-122.563768</td>\n",
       "      <td>45.530158</td>\n",
       "      <td>12.0</td>\n",
       "      <td>0.8</td>\n",
       "    </tr>\n",
       "    <tr>\n",
       "      <th>1</th>\n",
       "      <td>218523654</td>\n",
       "      <td>218523719</td>\n",
       "      <td>13-Dec-22</td>\n",
       "      <td>3604</td>\n",
       "      <td>138728</td>\n",
       "      <td>42875</td>\n",
       "      <td>-122.563898</td>\n",
       "      <td>45.530517</td>\n",
       "      <td>12.0</td>\n",
       "      <td>0.9</td>\n",
       "    </tr>\n",
       "    <tr>\n",
       "      <th>2</th>\n",
       "      <td>218523654</td>\n",
       "      <td>218523719</td>\n",
       "      <td>13-Dec-22</td>\n",
       "      <td>3604</td>\n",
       "      <td>138756</td>\n",
       "      <td>42880</td>\n",
       "      <td>-122.563973</td>\n",
       "      <td>45.53077</td>\n",
       "      <td>12.0</td>\n",
       "      <td>0.8</td>\n",
       "    </tr>\n",
       "    <tr>\n",
       "      <th>3</th>\n",
       "      <td>218523654</td>\n",
       "      <td>218523719</td>\n",
       "      <td>13-Dec-22</td>\n",
       "      <td>3604</td>\n",
       "      <td>138779</td>\n",
       "      <td>42885</td>\n",
       "      <td>-122.564017</td>\n",
       "      <td>45.530988</td>\n",
       "      <td>12.0</td>\n",
       "      <td>0.8</td>\n",
       "    </tr>\n",
       "    <tr>\n",
       "      <th>4</th>\n",
       "      <td>218523654</td>\n",
       "      <td>218523720</td>\n",
       "      <td>13-Dec-22</td>\n",
       "      <td>3604</td>\n",
       "      <td>138796</td>\n",
       "      <td>42930</td>\n",
       "      <td>-122.56396</td>\n",
       "      <td>45.531145</td>\n",
       "      <td>12.0</td>\n",
       "      <td>0.8</td>\n",
       "    </tr>\n",
       "  </tbody>\n",
       "</table>\n",
       "</div>"
      ],
      "text/plain": [
       "   EVENT_NO_TRIP  EVENT_NO_STOP   OPD_DATE  VEHICLE_ID  METERS  ACT_TIME  \\\n",
       "0      218523654      218523719  13-Dec-22        3604  138688     42869   \n",
       "1      218523654      218523719  13-Dec-22        3604  138728     42875   \n",
       "2      218523654      218523719  13-Dec-22        3604  138756     42880   \n",
       "3      218523654      218523719  13-Dec-22        3604  138779     42885   \n",
       "4      218523654      218523720  13-Dec-22        3604  138796     42930   \n",
       "\n",
       "      VELOCITY  DIRECTION RADIO_QUALITY GPS_LONGITUDE  \n",
       "0  -122.563768  45.530158          12.0           0.8  \n",
       "1  -122.563898  45.530517          12.0           0.9  \n",
       "2  -122.563973   45.53077          12.0           0.8  \n",
       "3  -122.564017  45.530988          12.0           0.8  \n",
       "4   -122.56396  45.531145          12.0           0.8  "
      ]
     },
     "execution_count": 2,
     "metadata": {},
     "output_type": "execute_result"
    }
   ],
   "source": [
    "# Load Trimet JSON into dataframe: \n",
    "\n",
    "import pandas as pd\n",
    "df = pd.read_json('data-archive2023-04-21.json')\n",
    "df.head(5)"
   ]
  },
  {
   "cell_type": "code",
   "execution_count": 5,
   "id": "57c798bd",
   "metadata": {},
   "outputs": [
    {
     "data": {
      "text/html": [
       "<div>\n",
       "<style scoped>\n",
       "    .dataframe tbody tr th:only-of-type {\n",
       "        vertical-align: middle;\n",
       "    }\n",
       "\n",
       "    .dataframe tbody tr th {\n",
       "        vertical-align: top;\n",
       "    }\n",
       "\n",
       "    .dataframe thead th {\n",
       "        text-align: right;\n",
       "    }\n",
       "</style>\n",
       "<table border=\"1\" class=\"dataframe\">\n",
       "  <thead>\n",
       "    <tr style=\"text-align: right;\">\n",
       "      <th></th>\n",
       "      <th>EVENT_NO_TRIP</th>\n",
       "      <th>EVENT_NO_STOP</th>\n",
       "      <th>VEHICLE_ID</th>\n",
       "      <th>METERS</th>\n",
       "      <th>ACT_TIME</th>\n",
       "    </tr>\n",
       "  </thead>\n",
       "  <tbody>\n",
       "    <tr>\n",
       "      <th>count</th>\n",
       "      <td>2.227713e+06</td>\n",
       "      <td>2.227713e+06</td>\n",
       "      <td>2.227713e+06</td>\n",
       "      <td>2.227713e+06</td>\n",
       "      <td>2.227713e+06</td>\n",
       "    </tr>\n",
       "    <tr>\n",
       "      <th>mean</th>\n",
       "      <td>2.190073e+08</td>\n",
       "      <td>2.190073e+08</td>\n",
       "      <td>3.783808e+04</td>\n",
       "      <td>1.299700e+05</td>\n",
       "      <td>5.065729e+04</td>\n",
       "    </tr>\n",
       "    <tr>\n",
       "      <th>std</th>\n",
       "      <td>2.622959e+05</td>\n",
       "      <td>2.622986e+05</td>\n",
       "      <td>8.010238e+05</td>\n",
       "      <td>8.646476e+04</td>\n",
       "      <td>1.856872e+04</td>\n",
       "    </tr>\n",
       "    <tr>\n",
       "      <th>min</th>\n",
       "      <td>2.184721e+08</td>\n",
       "      <td>2.184721e+08</td>\n",
       "      <td>2.901000e+03</td>\n",
       "      <td>0.000000e+00</td>\n",
       "      <td>1.261800e+04</td>\n",
       "    </tr>\n",
       "    <tr>\n",
       "      <th>25%</th>\n",
       "      <td>2.188933e+08</td>\n",
       "      <td>2.188933e+08</td>\n",
       "      <td>3.167000e+03</td>\n",
       "      <td>5.950200e+04</td>\n",
       "      <td>3.451800e+04</td>\n",
       "    </tr>\n",
       "    <tr>\n",
       "      <th>50%</th>\n",
       "      <td>2.189842e+08</td>\n",
       "      <td>2.189843e+08</td>\n",
       "      <td>3.531000e+03</td>\n",
       "      <td>1.174280e+05</td>\n",
       "      <td>5.119800e+04</td>\n",
       "    </tr>\n",
       "    <tr>\n",
       "      <th>75%</th>\n",
       "      <td>2.190761e+08</td>\n",
       "      <td>2.190762e+08</td>\n",
       "      <td>3.749000e+03</td>\n",
       "      <td>1.871000e+05</td>\n",
       "      <td>6.496700e+04</td>\n",
       "    </tr>\n",
       "    <tr>\n",
       "      <th>max</th>\n",
       "      <td>2.201692e+08</td>\n",
       "      <td>2.201693e+08</td>\n",
       "      <td>1.872430e+07</td>\n",
       "      <td>4.907190e+05</td>\n",
       "      <td>9.775600e+04</td>\n",
       "    </tr>\n",
       "  </tbody>\n",
       "</table>\n",
       "</div>"
      ],
      "text/plain": [
       "       EVENT_NO_TRIP  EVENT_NO_STOP    VEHICLE_ID        METERS      ACT_TIME\n",
       "count   2.227713e+06   2.227713e+06  2.227713e+06  2.227713e+06  2.227713e+06\n",
       "mean    2.190073e+08   2.190073e+08  3.783808e+04  1.299700e+05  5.065729e+04\n",
       "std     2.622959e+05   2.622986e+05  8.010238e+05  8.646476e+04  1.856872e+04\n",
       "min     2.184721e+08   2.184721e+08  2.901000e+03  0.000000e+00  1.261800e+04\n",
       "25%     2.188933e+08   2.188933e+08  3.167000e+03  5.950200e+04  3.451800e+04\n",
       "50%     2.189842e+08   2.189843e+08  3.531000e+03  1.174280e+05  5.119800e+04\n",
       "75%     2.190761e+08   2.190762e+08  3.749000e+03  1.871000e+05  6.496700e+04\n",
       "max     2.201692e+08   2.201693e+08  1.872430e+07  4.907190e+05  9.775600e+04"
      ]
     },
     "execution_count": 5,
     "metadata": {},
     "output_type": "execute_result"
    }
   ],
   "source": [
    "df.describe()\n"
   ]
  },
  {
   "cell_type": "code",
   "execution_count": 9,
   "id": "79246269",
   "metadata": {},
   "outputs": [
    {
     "name": "stdout",
     "output_type": "stream",
     "text": [
      "No NaN/empty values found\n"
     ]
    }
   ],
   "source": [
    "# 1. There are no 0/NaN values (each row has all values)\n",
    "\n",
    "notna = df.notna()\n",
    "if False in notna: \n",
    "    print ('False')\n",
    "else: \n",
    "    print (\"No NaN/empty values found\")"
   ]
  },
  {
   "cell_type": "code",
   "execution_count": 12,
   "id": "8f4509ad",
   "metadata": {},
   "outputs": [
    {
     "data": {
      "text/plain": [
       "count     2227713\n",
       "unique         11\n",
       "top          12.0\n",
       "freq      1569101\n",
       "Name: RADIO_QUALITY, dtype: object"
      ]
     },
     "execution_count": 12,
     "metadata": {},
     "output_type": "execute_result"
    }
   ],
   "source": [
    "# 2. The velocity is never greater than 40(m/s) (~= 90mph) \n",
    "# ***assuming velocity is actually radio quality right now: fix \n",
    "vel = df['RADIO_QUALITY']\n",
    "vel.describe()\n"
   ]
  },
  {
   "cell_type": "code",
   "execution_count": null,
   "id": "71695236",
   "metadata": {},
   "outputs": [],
   "source": [
    "# 3. A trip should have a trip number as well as a vehicle number. \n",
    "# The code for #1 should cover this "
   ]
  },
  {
   "cell_type": "code",
   "execution_count": 30,
   "id": "5ecf2315",
   "metadata": {},
   "outputs": [
    {
     "data": {
      "text/plain": [
       "5751"
      ]
     },
     "execution_count": 30,
     "metadata": {},
     "output_type": "execute_result"
    }
   ],
   "source": [
    "# 4. Every same trip number should have the same vehicle number \n",
    "# trips = df.groupby(['EVENT_NO_TRIP']).mean()\n",
    "trips = df['EVENT_NO_TRIP'].unique()\n",
    "trips.size\n"
   ]
  },
  {
   "cell_type": "code",
   "execution_count": 34,
   "id": "85e4679b",
   "metadata": {},
   "outputs": [
    {
     "data": {
      "text/plain": [
       "2227713"
      ]
     },
     "execution_count": 34,
     "metadata": {},
     "output_type": "execute_result"
    }
   ],
   "source": [
    "# 5. There are a few millions records daily but not more (>5mil = alarm)\n",
    "df['EVENT_NO_TRIP'].size"
   ]
  },
  {
   "cell_type": "code",
   "execution_count": 36,
   "id": "3070d73e",
   "metadata": {},
   "outputs": [
    {
     "data": {
      "text/plain": [
       "array(['13-Dec-22'], dtype=object)"
      ]
     },
     "execution_count": 36,
     "metadata": {},
     "output_type": "execute_result"
    }
   ],
   "source": [
    "# 6. The date should always be the same in every row \n",
    "date = df['OPD_DATE'].unique()"
   ]
  },
  {
   "cell_type": "code",
   "execution_count": null,
   "id": "47e5e6d6",
   "metadata": {},
   "outputs": [],
   "source": [
    "# 7. The velocity should conform to a (normal?) distribution - max/min/mean speeds \n",
    "# Can't do without knowing what velocity column actually is!  "
   ]
  }
 ],
 "metadata": {
  "kernelspec": {
   "display_name": "Python 3 (ipykernel)",
   "language": "python",
   "name": "python3"
  },
  "language_info": {
   "codemirror_mode": {
    "name": "ipython",
    "version": 3
   },
   "file_extension": ".py",
   "mimetype": "text/x-python",
   "name": "python",
   "nbconvert_exporter": "python",
   "pygments_lexer": "ipython3",
   "version": "3.10.9"
  }
 },
 "nbformat": 4,
 "nbformat_minor": 5
}
