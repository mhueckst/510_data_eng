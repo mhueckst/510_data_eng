{
 "cells": [
  {
   "cell_type": "code",
   "execution_count": 1,
   "id": "7f161e9d",
   "metadata": {},
   "outputs": [],
   "source": [
    "# api_key = \"438f6427a369a6452d09ef17f09072a3\"\n"
   ]
  },
  {
   "cell_type": "code",
   "execution_count": 20,
   "id": "3b1a7b5e",
   "metadata": {},
   "outputs": [
    {
     "name": "stdout",
     "output_type": "stream",
     "text": [
      "Enter city name : Portland\n",
      " Temperature (in *F) = 50.41\n",
      " atmospheric pressure (in mbar) = 1017\n",
      " humidity % = 62\n",
      " description = overcast clouds\n",
      "Is it raining in Portland, OR?\n",
      "\t No\n",
      "Will it be raining when our class next meets?\n"
     ]
    }
   ],
   "source": [
    "# import required modules\n",
    "import requests, json\n",
    "\n",
    "# Enter your API key here\n",
    "# api_key = \"Your_API_Key\"\n",
    "api_key = \"438f6427a369a6452d09ef17f09072a3\"\n",
    "\n",
    "\n",
    "# base_url variable to store url\n",
    "base_url = \"http://api.openweathermap.org/data/2.5/weather?\"\n",
    "\n",
    "# Give city name\n",
    "city_name = input(\"Enter city name : \")\n",
    "\n",
    "# complete_url variable to store\n",
    "# complete url address\n",
    "complete_url = base_url + \"appid=\" + api_key + \"&q=\" + city_name + '&units=imperial'\n",
    "\n",
    "# get method of requests module\n",
    "# return response object\n",
    "response = requests.get(complete_url)\n",
    "\n",
    "# json method of response object\n",
    "# convert json format data into\n",
    "# python format data\n",
    "x = response.json()\n",
    "\n",
    "# Now x contains list of nested dictionaries\n",
    "# Check the value of \"cod\" key is equal to\n",
    "# \"404\", means city is found otherwise,\n",
    "# city is not found\n",
    "if x[\"cod\"] != \"404\":\n",
    "\n",
    "    # store the value of \"main\"\n",
    "    # key in variable y\n",
    "    y = x[\"main\"]\n",
    "\n",
    "    # store the value corresponding\n",
    "    # to the \"temp\" key of y\n",
    "    current_temperature = y[\"temp\"]\n",
    "\n",
    "    # store the value corresponding\n",
    "    # to the \"pressure\" key of y\n",
    "    current_pressure = y[\"pressure\"]\n",
    "\n",
    "    # store the value corresponding\n",
    "    # to the \"humidity\" key of y\n",
    "    current_humidity = y[\"humidity\"]\n",
    "\n",
    "    # store the value of \"weather\"\n",
    "    # key in variable z\n",
    "    z = x[\"weather\"]\n",
    "\n",
    "    # store the value corresponding\n",
    "    # to the \"description\" key at\n",
    "    # the 0th index of z\n",
    "    weather_description = z[0][\"description\"]\n",
    "\n",
    "# print following values\n",
    "    print(\" Temperature = \" +\n",
    "                str(current_temperature) + \" F\"\n",
    "    \"\\n atmospheric pressure (in mbar) = \" +\n",
    "                str(current_pressure) +\n",
    "    \"\\n humidity % = \" +\n",
    "                str(current_humidity) +\n",
    "    \"\\n description = \" +\n",
    "                str(weather_description))\n",
    "    print(\"Is it raining in Portland, OR?\")\n",
    "    if 'rain' in weather_description:\n",
    "        print(\"Yes\")\n",
    "    else: print(\"\\t No\")\n",
    "    print(\"Will it be raining when our class next meets?\")\n",
    "    \n",
    "\n",
    "\n",
    "\n",
    "else:\n",
    "\tprint(\" City Not Found \")\n",
    "    \n"
   ]
  },
  {
   "cell_type": "code",
   "execution_count": null,
   "id": "3f669514",
   "metadata": {},
   "outputs": [],
   "source": []
  }
 ],
 "metadata": {
  "kernelspec": {
   "display_name": "Python 3 (ipykernel)",
   "language": "python",
   "name": "python3"
  },
  "language_info": {
   "codemirror_mode": {
    "name": "ipython",
    "version": 3
   },
   "file_extension": ".py",
   "mimetype": "text/x-python",
   "name": "python",
   "nbconvert_exporter": "python",
   "pygments_lexer": "ipython3",
   "version": "3.10.9"
  }
 },
 "nbformat": 4,
 "nbformat_minor": 5
}
